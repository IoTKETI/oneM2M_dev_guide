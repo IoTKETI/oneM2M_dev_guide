{
 "cells": [
  {
   "cell_type": "code",
   "execution_count": 1,
   "id": "3b09d0fe",
   "metadata": {},
   "outputs": [],
   "source": [
    "const axios = require('axios');"
   ]
  },
  {
   "cell_type": "markdown",
   "id": "49afd8fd",
   "metadata": {},
   "source": [
    "## HTTP URL\n",
    "By the HTTP protocol, the target URL consists of host and resource path.\n",
    "In oneM2M HTTP Binding, there needs the slash('/') handling to build the URL with the host address.\n",
    "For example, when the host is 'http://localhost:7579' like Mobius default seetting and the target oneM2M resource is my Registrar's <CSEBase> resource e.g. 'Mobius', we need to put the slash in between. For conveninence for implementation here, we put that slash in the end of the base_url so the URL to reach becomes 'http://localhost:7579/Mobius'.\n",
    "    \n",
    "## HTTP Method\n",
    "\n",
    "CRUD operations get mapped to POST, GET, PUT, DELETE HTTP methods. N(Notify) also gets mapped to POST method. Note that in case of CREATE, extra parameter is carried in the HTTP so it can be distinguished with a NOTIFY request.\n",
    "    \n",
    "## HTTP Headers\n",
    "Some of the oneM2M (request and response) parameters mapped to HTTP headers. There are three oneM2M extension headers:\n",
    "- X-M2M-RI: Request Identifier\n",
    "- X-M2M-RVI: Request Version Indicator\n",
    "- X-M2M-Origin: Originator ID\n",
    "    \n",
    "Also the accept header should be added."
   ]
  },
  {
   "cell_type": "markdown",
   "id": "968bc88a",
   "metadata": {},
   "source": [
    "First request we're going to send out is <CSEBase> ressource retrieval."
   ]
  },
  {
   "cell_type": "code",
   "execution_count": 2,
   "id": "c12d7ebe",
   "metadata": {},
   "outputs": [],
   "source": [
    "const base_url = 'http://localhost:7579/';\n",
    "let resource_id = 'Mobius';\n",
    "const options = {\n",
    "    method: 'get',\n",
    "    url: base_url + resource_id,\n",
    "    headers: {\n",
    "        'X-M2M-RI': 'req123',\n",
    "        'X-M2M-RVI': '2',\n",
    "        'X-M2M-Origin': 'SAE1',\n",
    "        'Accept': 'applicaiton/json'\n",
    "    }\n",
    "}"
   ]
  },
  {
   "cell_type": "code",
   "execution_count": 3,
   "id": "0af549e8",
   "metadata": {},
   "outputs": [],
   "source": [
    "const response = {};"
   ]
  },
  {
   "cell_type": "markdown",
   "id": "aafe3f40",
   "metadata": {},
   "source": [
    "## HTTP Status Codes\n",
    "\n",
    "oneM2M defines RSC (Response Status Code) in the Core Protocol (TS-0004) and each RSC gets mapped to the HTTP status code. Refer to the HTTP Binding specification for more information (TS-0009).\n",
    "\n",
    "\n",
    "Some successful responses: \n",
    "- on2M2M RSC 2001 (CREATED) => HTTP 201 (created)\n",
    "- oneM2M RSC 2000 (OK), 2002 (DELETED), 2004 (UPDATED) => HTTP 200 (ok)\n",
    "\n",
    "Some unsuccessful responses:\n",
    "- on2M2M RSC 4103 (ORIGINATOR_HAS_NO_PRIVILEGE) => HTTP 403 (forbidden)\n",
    "- oneM2M RSC 4004 (NOT_FOUND) => HTTP 404 (not found)\n",
    "- oneM2M RSC 5106 (ALREADY_EXISTS) => HTTP 409 (conflict) \n",
    "\n",
    "For more error code mappings, refer to oneM2M "
   ]
  },
  {
   "cell_type": "markdown",
   "id": "e0b65182",
   "metadata": {},
   "source": [
    "## oneM2M request in HTTP\n",
    "\n",
    "Send a request after modifying several parameters and check the response. In case of succesful response, we'll see the response code with returned body which the Primitive Content (pc)  parameter. For the unsuccessful ones, we'll see the debug message from the platform with the error status code.\n",
    "\n",
    "After you change the parameters below, you can come back here and fire out that request (CRUD) to check the response."
   ]
  },
  {
   "cell_type": "code",
   "execution_count": 61,
   "id": "8dd67867",
   "metadata": {},
   "outputs": [
    {
     "data": {
      "text/plain": [
       "Promise { <pending> }"
      ]
     },
     "execution_count": 61,
     "metadata": {},
     "output_type": "execute_result"
    },
    {
     "name": "stdout",
     "output_type": "stream",
     "text": [
      "HTTP status code: 404\n",
      "oneM2M error message: resource does not exist (get_target_url)\n"
     ]
    }
   ],
   "source": [
    "axios(options)\n",
    "    .then(resp => {\n",
    "        console.log('status code: ' + resp.status);\n",
    "        console.log('primitive content: ' + JSON.stringify(resp.data));\n",
    "    })\n",
    "    .catch(error => {\n",
    "        console.log('HTTP status code: ' + error.response.status);\n",
    "        console.log('oneM2M error message: ' + error.response.data['m2m:dbg']);\n",
    "});"
   ]
  },
  {
   "cell_type": "markdown",
   "id": "cf5b54d8",
   "metadata": {},
   "source": [
    "## Try a create request\n",
    "\n",
    "Let's try a Create request now, which has HTTP POST method. \n",
    "For a CREATE request, the 'Content-Type' request header with 'ty' (Resource Type) shall be added. E.g. 'application/json; ty=3'.\n",
    "\n",
    "Well-known 'ty' values are:\n",
    "- 2 (AE)\n",
    "- 3 (container)\n",
    "- 4 (contentInstance)\n",
    "- 23 (subscription)"
   ]
  },
  {
   "cell_type": "code",
   "execution_count": 9,
   "id": "37923474",
   "metadata": {},
   "outputs": [
    {
     "data": {
      "text/plain": [
       "'application/json; ty=3'"
      ]
     },
     "execution_count": 9,
     "metadata": {},
     "output_type": "execute_result"
    }
   ],
   "source": [
    "options.method = 'post';\n",
    "options.headers['content-type'] = 'application/json; ty=3';"
   ]
  },
  {
   "cell_type": "markdown",
   "id": "ccb1a6e5",
   "metadata": {},
   "source": [
    "### Primitive Content parameter setting\n",
    "\n",
    "For a CREATE or UPDATE request, the resource instance shall be carried in 'pc' (Primitive Content) parameter which is mapped to HTTP request-body. Once you finish the setting, you can go up again to send the request."
   ]
  },
  {
   "cell_type": "code",
   "execution_count": 10,
   "id": "e98367c9",
   "metadata": {},
   "outputs": [
    {
     "data": {
      "text/plain": [
       "{ 'm2m:cnt': { rn: 'cnt_test' } }"
      ]
     },
     "execution_count": 10,
     "metadata": {},
     "output_type": "execute_result"
    }
   ],
   "source": [
    "options.data = {\"m2m:cnt\": {\"rn\": \"cnt_test\"}};"
   ]
  },
  {
   "cell_type": "markdown",
   "id": "652a1c3d",
   "metadata": {},
   "source": [
    "## Try a discovery request\n",
    "\n",
    "A discovery request is a sort of RETRIEVE requests by the oneM2M specification. but add Filter Criteria (fc) parameter having different filter conditions. Before we add 'fc', let's modify the common parameters already set."
   ]
  },
  {
   "cell_type": "code",
   "execution_count": 34,
   "id": "8be09c09",
   "metadata": {},
   "outputs": [
    {
     "data": {
      "text/plain": [
       "true"
      ]
     },
     "execution_count": 34,
     "metadata": {},
     "output_type": "execute_result"
    }
   ],
   "source": [
    "options.method = 'get';\n",
    "delete options.headers['content-type'];\n",
    "delete options.data;"
   ]
  },
  {
   "cell_type": "markdown",
   "id": "b63876c0",
   "metadata": {},
   "source": [
    "Let's check the request options we made so far."
   ]
  },
  {
   "cell_type": "code",
   "execution_count": 41,
   "id": "34a8385e",
   "metadata": {},
   "outputs": [
    {
     "data": {
      "text/plain": [
       "{\n",
       "  url: 'http://localhost:7579/Mobius',\n",
       "  headers: {\n",
       "    'X-M2M-RI': 'req123',\n",
       "    'X-M2M-Origin': 'SAE1',\n",
       "    Accept: 'applicaiton/json',\n",
       "    'x-m2m-rvi': '2'\n",
       "  },\n",
       "  method: 'get',\n",
       "  params: { fu: 1, ty: 3, rn: 'cnt_test' }\n",
       "}"
      ]
     },
     "execution_count": 41,
     "metadata": {},
     "output_type": "execute_result"
    }
   ],
   "source": [
    "options"
   ]
  },
  {
   "cell_type": "markdown",
   "id": "8ce2e5f6",
   "metadata": {},
   "source": [
    "### Add Filter Criteria for discovery\n",
    "\n",
    "First condition to add is the indicator that we use 'fc' as discovery.\n",
    "- fu (filterUsage): 1 (discovery)\n",
    "\n",
    "And let's discover resource instances which is in *container* resource type\n",
    "- ty (resourceType): 3 (container)\n",
    "\n",
    "Also let's search for the container we created by its name\n",
    "- rn (reosurceName) \n",
    "\n",
    "Those are included in the 'fc' as sub-elements like this in JSON:\n",
    "```\n",
    "{\n",
    "    \"fc\" : {\n",
    "        \"fu\": 1,\n",
    "        \"ty\": 3,\n",
    "        \"rn\": \"cnt_test\"\n",
    "    }\n",
    "}\n",
    "```\n",
    "\n",
    "In HTTP binding (TS-0009), each 'fc' elements are carried in HTTP query-string in flat like '?fu=1&ty=3&rn=cnt_test'.\n",
    "To include these in axios, we can use 'params'"
   ]
  },
  {
   "cell_type": "code",
   "execution_count": 52,
   "id": "a953ca95",
   "metadata": {},
   "outputs": [
    {
     "data": {
      "text/plain": [
       "{\n",
       "  url: 'http://localhost:7579/Mobius/cnt_test',\n",
       "  headers: {\n",
       "    'X-M2M-RI': 'req123',\n",
       "    'X-M2M-Origin': 'SAE1',\n",
       "    Accept: 'applicaiton/json',\n",
       "    'x-m2m-rvi': '2',\n",
       "    'content-type': 'appliation/json'\n",
       "  },\n",
       "  method: 'delete',\n",
       "  params: { fu: 1, ty: 3, rn: 'cnt_test' }\n",
       "}"
      ]
     },
     "execution_count": 52,
     "metadata": {},
     "output_type": "execute_result"
    }
   ],
   "source": [
    "options.params = {\n",
    "    \"fu\": 1,\n",
    "    \"ty\": 3,\n",
    "    \"rn\": \"cnt_test\"\n",
    "};\n",
    "options;"
   ]
  },
  {
   "cell_type": "markdown",
   "id": "0d64e3d9",
   "metadata": {},
   "source": [
    "## Try an update request\n",
    "\n",
    "Let's update the <container> resource we created, adding a label (lbl) which has an array of string. It is part of the <container> reosurce so the representation for this is:\n",
    "```\n",
    "{\n",
    "    \"m2m:cnt\": {\n",
    "        \"lbl\": [\"keti\"]\n",
    "    }\n",
    "}\n",
    "```\n",
    "    \n",
    "And note that we use HTTP PUT method with 'Content-Type' header without 'ty' to carry the HTTP body."
   ]
  },
  {
   "cell_type": "code",
   "execution_count": 46,
   "id": "12b4e0f5",
   "metadata": {},
   "outputs": [
    {
     "data": {
      "text/plain": [
       "{\n",
       "  url: 'http://localhost:7579/Mobius/cnt_test',\n",
       "  headers: {\n",
       "    'X-M2M-RI': 'req123',\n",
       "    'X-M2M-Origin': 'SAE1',\n",
       "    Accept: 'applicaiton/json',\n",
       "    'x-m2m-rvi': '2',\n",
       "    'content-type': 'appliation/json'\n",
       "  },\n",
       "  method: 'put',\n",
       "  params: { fu: 1, ty: 3, rn: 'cnt_test' },\n",
       "  data: { 'm2m:cnt': { lbl: [Array] } }\n",
       "}"
      ]
     },
     "execution_count": 46,
     "metadata": {},
     "output_type": "execute_result"
    }
   ],
   "source": [
    "options.url = base_url + 'Mobius/cnt_test';\n",
    "options.method = 'put';\n",
    "options.headers['content-type'] = 'appliation/json';\n",
    "options.data = {\n",
    "    \"m2m:cnt\": {\n",
    "        \"lbl\": [\"keti\"]\n",
    "    }\n",
    "};\n",
    "options;"
   ]
  },
  {
   "cell_type": "markdown",
   "id": "f8247aa3",
   "metadata": {},
   "source": [
    "Don't forget to remove 'fc' elements for discovery."
   ]
  },
  {
   "cell_type": "code",
   "execution_count": 54,
   "id": "0bcef95a",
   "metadata": {},
   "outputs": [
    {
     "data": {
      "text/plain": [
       "{\n",
       "  url: 'http://localhost:7579/Mobius/cnt_test',\n",
       "  headers: {\n",
       "    'X-M2M-RI': 'req123',\n",
       "    'X-M2M-Origin': 'SAE1',\n",
       "    Accept: 'applicaiton/json',\n",
       "    'x-m2m-rvi': '2',\n",
       "    'content-type': 'appliation/json'\n",
       "  },\n",
       "  method: 'delete'\n",
       "}"
      ]
     },
     "execution_count": 54,
     "metadata": {},
     "output_type": "execute_result"
    }
   ],
   "source": [
    "delete options.params;\n",
    "options;"
   ]
  },
  {
   "cell_type": "markdown",
   "id": "df489880",
   "metadata": {},
   "source": [
    "## Try a delete request\n",
    "\n",
    "Finally let's practice a remove request by removing the <container> resource. We'll use the HTTP delete method and send no payload."
   ]
  },
  {
   "cell_type": "code",
   "execution_count": 59,
   "id": "78eb2c50",
   "metadata": {},
   "outputs": [
    {
     "data": {
      "text/plain": [
       "{\n",
       "  url: 'http://localhost:7579/Mobius/cnt_test',\n",
       "  headers: {\n",
       "    'X-M2M-RI': 'req123',\n",
       "    'X-M2M-Origin': 'SAE1',\n",
       "    Accept: 'applicaiton/json',\n",
       "    'x-m2m-rvi': '2'\n",
       "  },\n",
       "  method: 'delete'\n",
       "}"
      ]
     },
     "execution_count": 59,
     "metadata": {},
     "output_type": "execute_result"
    }
   ],
   "source": [
    "options.method = 'delete';\n",
    "delete options.headers['content-type'];\n",
    "delete options.data;\n",
    "options;"
   ]
  },
  {
   "cell_type": "markdown",
   "id": "36f9cbdf",
   "metadata": {},
   "source": [
    "To confirm, let's try to retireve the resource and see what we get in the response."
   ]
  },
  {
   "cell_type": "code",
   "execution_count": 60,
   "id": "d1e2c197",
   "metadata": {},
   "outputs": [
    {
     "data": {
      "text/plain": [
       "{\n",
       "  url: 'http://localhost:7579/Mobius/cnt_test',\n",
       "  headers: {\n",
       "    'X-M2M-RI': 'req123',\n",
       "    'X-M2M-Origin': 'SAE1',\n",
       "    Accept: 'applicaiton/json',\n",
       "    'x-m2m-rvi': '2'\n",
       "  },\n",
       "  method: 'get'\n",
       "}"
      ]
     },
     "execution_count": 60,
     "metadata": {},
     "output_type": "execute_result"
    }
   ],
   "source": [
    "options.method = 'get';\n",
    "options;"
   ]
  }
 ],
 "metadata": {
  "kernelspec": {
   "display_name": "JavaScript (Node.js)",
   "language": "javascript",
   "name": "javascript"
  },
  "language_info": {
   "file_extension": ".js",
   "mimetype": "application/javascript",
   "name": "javascript",
   "version": "16.14.0"
  }
 },
 "nbformat": 4,
 "nbformat_minor": 5
}
